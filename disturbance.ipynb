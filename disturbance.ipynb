{
 "cells": [
  {
   "cell_type": "code",
   "execution_count": null,
   "id": "b842ccb2",
   "metadata": {},
   "outputs": [],
   "source": [
    "import matplotlib.pyplot as plt\n",
    "import numpy as np\n",
    "from mpl_toolkits.mplot3d import Axes3D\n",
    "import math\n",
    "import pandas as pd"
   ]
  },
  {
   "cell_type": "markdown",
   "id": "052024c8",
   "metadata": {},
   "source": [
    "# 1. Parameters Initialization"
   ]
  },
  {
   "cell_type": "markdown",
   "id": "408b8f54-6508-4d87-a498-76cdcc61d470",
   "metadata": {},
   "source": [
    "## 1.1 Parameters which used to calculate $\\rho_{2}$"
   ]
  },
  {
   "cell_type": "code",
   "execution_count": null,
   "id": "a7c0ebf0",
   "metadata": {},
   "outputs": [],
   "source": [
    "\n",
    "A11 = np.array([[0.3, 0.5], [0.5, 0.3]])\n",
    "A12 = np.array([[0.3, 0.5], [0.5, 0.3]])\n",
    "A21 = np.array([[0.2, 0.0], [0.0, 0.2]])\n",
    "A22 = np.array([[0.2, 0.0], [0.0, 0.2]])\n",
    "\n",
    "B11 = np.array([[0.01, 0.0], [0.01, 0.01]])\n",
    "B12 = np.array([[0.01, 0.0], [0.01, 0.01]])\n",
    "B21 = np.array([[0.0, 0.0], [0.0, 0.0]])\n",
    "B22 = np.array([[0.0, 0.0], [0.0, 0.0]])\n",
    "D1 = np.array([[1, 0], [0, 1]]) \n",
    "E1 = np.array([[-1, 0], [0, -1]])\n",
    "D2 = np.array([[1, 0], [0, 1]])\n",
    "E2 = np.array([[-1, 0], [0, -1]])\n",
    "\n",
    "# Disturbance\n",
    "C11 = np.array([[0.01, 0.0], [0.01, 0.01]]) \n",
    "C12 = np.array([[0.01, 0.0], [0.01, 0.01]])\n",
    "C21 = np.array([[0.0, 0.0], [0.0, 0.0]])\n",
    "C22 = np.array([[0.0, 0.0], [0.0, 0.0]])\n",
    "F1 = np.array([[-0.5, 0], [0, -0.5]]) \n",
    "F2 = np.array([[-0.5, 0], [0, -0.5]])\n",
    "\n",
    "\n",
    "Sigma1 = np.array([[1, 0], [0, 0]])\n",
    "Sigma2 = np.array([[0, 0], [0, 1]])\n",
    "w1, w2 = 0.1, 0.3\n",
    "W = np.array([[w1, 0], [0, w2]])\n",
    "I = np.array([[1, 0], [0, 1]])\n",
    "\n",
    "alpha = 0.9999\n",
    "beta = 0.99"
   ]
  },
  {
   "cell_type": "markdown",
   "id": "c24636e8-8b46-4a11-ba13-c929c1f55bed",
   "metadata": {},
   "source": [
    "## 1.2 Parameters which used to draw figs"
   ]
  },
  {
   "cell_type": "code",
   "execution_count": null,
   "id": "aedd0ecc",
   "metadata": {},
   "outputs": [],
   "source": [
    "A11 = np.array([[0.25, -0.07], [-0.01, 0.12]])\n",
    "A12 = np.array([[0.35, -0.01], [-0.05, 0.14]])\n",
    "A21 = np.array([[0.22, -0.1], [-0.08, 0.32]])\n",
    "A22 = np.array([[0.51, -0.02], [-0.05, 0.28]])\n",
    "B11 = np.array([[-0.45, 0.02], [0.02, -0.05]])\n",
    "B12 = np.array([[-0.53, 0.08], [0.01, -0.03]])\n",
    "B21 = np.array([[-0.05, 0.01], [0.02, -0.4]])\n",
    "B22 = np.array([[-0.03, 0.03], [0.03, -0.55]])\n",
    "D1 = np.array([[1, 0], [0, 1]])\n",
    "E1 = np.array([[-1, 0.5], [0.5, -1]])\n",
    "D2 = np.array([[1, 0], [0, 1]])\n",
    "E2 = np.array([[-1, 0.5], [0.5, -1]])\n",
    "\n",
    "# Disturbance\n",
    "C11 = np.array([[-0.02, 0.05], [0.02, -0.05]])\n",
    "C12 = np.array([[-0.03, 0.03], [0.05, -0.02]])\n",
    "C21 = np.array([[-0.05, 0.1], [0.2, -0.04]])\n",
    "C22 = np.array([[-0.02, 0.3], [0.1, -0.02]])\n",
    "F1 = np.array([[-0.5, 0], [0, -0.5]])\n",
    "F2 = np.array([[-0.5, 0], [0, -0.5]])\n",
    "\n",
    "\n",
    "Sigma1 = np.array([[1, 0], [0, 0]])\n",
    "Sigma2 = np.array([[0, 0], [0, 1]])\n",
    "w1, w2 = 0.1, 0.3\n",
    "W = np.array([[w1, 0], [0, w2]])\n",
    "I = np.array([[1, 0], [0, 1]])\n",
    "\n",
    "alpha = 0.5\n",
    "beta = 0.3"
   ]
  },
  {
   "cell_type": "code",
   "execution_count": null,
   "id": "4a861f4a",
   "metadata": {},
   "outputs": [],
   "source": [
    "Num_p, Num_q, Num_r = 15, 20, 500\n",
    "\n",
    "x = np.zeros((Num_r, Num_p, Num_q, 2, 1))\n",
    "y = np.zeros((Num_r, Num_p, Num_q, 2, 1))\n",
    "u = np.zeros((Num_r, Num_p, Num_q, 2, 1))\n",
    "y_ba = np.zeros((Num_r, Num_p, Num_q, 2, 1))\n",
    "y_hat = np.zeros((Num_r, Num_p, Num_q, 2, 1))\n",
    "e = np.zeros((Num_r, Num_p, Num_q, 2, 1))\n",
    "e_hat = np.zeros((Num_r, Num_p, Num_q, 2, 1))\n",
    "sigma = np.zeros((Num_r, Num_p, Num_q))\n",
    "\n",
    "# Initialize x\n",
    "for r in range(Num_r):\n",
    "    for p in range(Num_p):\n",
    "        x[r][p][0] = np.array([[-math.sin(2 * math.pi * p / 10)], [- math.cos(2 * math.pi * p / 10)]])\\\n",
    "        + np.array([[pow(0.2, r)], [pow(0.2, r)]])\n",
    "    for q in range(Num_q):\n",
    "        x[r][0][q] = np.array([[-math.sin(2 * math.pi * q / 10)], [- math.cos(2 * math.pi * q / 10)]])\\\n",
    "        + np.array([[pow(0.2, r)], [pow(0.2, r)]])"
   ]
  },
  {
   "cell_type": "code",
   "execution_count": null,
   "id": "f2103899",
   "metadata": {},
   "outputs": [],
   "source": [
    "def lambda1(r, p, q):\n",
    "    return (math.sin(x[r][p][q][0]) + p * q) / (2 + math.cos(x[r][p][q][0]) + p * q)"
   ]
  },
  {
   "cell_type": "code",
   "execution_count": null,
   "id": "98ce7690",
   "metadata": {},
   "outputs": [],
   "source": [
    "def lambda2(r, p, q):\n",
    "    return 1 - lambda1(r, p, q)"
   ]
  },
  {
   "cell_type": "code",
   "execution_count": null,
   "id": "2c1e3b9b",
   "metadata": {},
   "outputs": [],
   "source": [
    "def cal_x(r, p, q):\n",
    "    if p-1 < 0:\n",
    "        result1 = lambda1(r, p-1, q) * (A11 @ x[r][0][q] + B11 @ u[r][0][q])\n",
    "        result2 = lambda2(r, p-1, q) * (A12 @ x[r][0][q] + B12 @ u[r][0][q])\n",
    "    else:\n",
    "        result1 = lambda1(r, p-1, q) * (A11 @ x[r][p-1][q] + B11 @ u[r][p-1][q] + C11 @ cal_w(p-1, q))\n",
    "        result2 = lambda2(r, p-1, q) * (A12 @ x[r][p-1][q] + B12 @ u[r][p-1][q] + C12 @ cal_w(p-1, q))\n",
    "    if q-1 < 0:\n",
    "        result3 = lambda1(r, p, q-1) * (A21 @ x[r][p][0] + B21 @ u[r][p][0])\n",
    "        result4 = lambda2(r, p, q-1) * (A22 @ x[r][p][0] + B22 @ u[r][p][0])\n",
    "    else:\n",
    "        result3 = lambda1(r, p, q-1) * (A21 @ x[r][p][q-1] + B21 @ u[r][p][q-1] + C21 @ cal_w(p, q-1))\n",
    "        result4 = lambda2(r, p, q-1) * (A22 @ x[r][p][q-1] + B22 @ u[r][p][q-1] + C22 @ cal_w(p, q-1))\n",
    "    return result1 + result2 + result3 + result4"
   ]
  },
  {
   "cell_type": "code",
   "execution_count": null,
   "id": "e2e6e198",
   "metadata": {},
   "outputs": [],
   "source": [
    "def cal_y(r, p, q):\n",
    "    result1 = lambda1(r, p, q) * (D1 @ x[r][p][q] + E1 @ u[r][p][q] + F1 @ cal_v(p, q))\n",
    "    result2 = lambda2(r, p, q) * (D2 @ x[r][p][q] + E2 @ u[r][p][q] + F2 @ cal_v(p, q))\n",
    "    return result1 + result2"
   ]
  },
  {
   "cell_type": "code",
   "execution_count": null,
   "id": "348b3d58",
   "metadata": {},
   "outputs": [],
   "source": [
    "def cal_sigma(r, p, q):\n",
    "    if q-1 < 0:\n",
    "        result1 = (y[r][p][q] - np.zeros((2, 1))).T @ W @ Sigma1 @ (y[r][p][q] - np.zeros((2, 1)))\n",
    "        result2 = (y[r][p][q] - np.zeros((2, 1))).T @ W @ Sigma2 @ (y[r][p][q] - np.zeros((2, 1)))\n",
    "    else:\n",
    "        result1 = (y[r][p][q] - y_ba[r][p][q-1]).T @ W @ Sigma1 @ (y[r][p][q] - y_ba[r][p][q-1])\n",
    "        result2 = (y[r][p][q] - y_ba[r][p][q-1]).T @ W @ Sigma2 @ (y[r][p][q] - y_ba[r][p][q-1])\n",
    "    if result1 > result2:\n",
    "        return 1\n",
    "    else:\n",
    "        return 2"
   ]
  },
  {
   "cell_type": "code",
   "execution_count": null,
   "id": "250529b4",
   "metadata": {},
   "outputs": [],
   "source": [
    "def cal_zeta(r, p, q):\n",
    "    return 0.25 * np.array([[math.sin(r * p)], [math.sin(r * q)]])"
   ]
  },
  {
   "cell_type": "code",
   "execution_count": null,
   "id": "42cee1c6",
   "metadata": {},
   "outputs": [],
   "source": [
    "def cal_y_ba(r, p, q):\n",
    "    if sigma[r][p][q] == 1:\n",
    "        Sigma = Sigma1\n",
    "    else:\n",
    "        Sigma = Sigma2\n",
    "    result1 = (1 - alpha) * Sigma @ y[r][p][q]\n",
    "    if q-1 < 0:\n",
    "        result2 = np.zeros((2, 1))\n",
    "    else:\n",
    "        result2 = (I - Sigma) @ y_ba[r][p][q-1]\n",
    "    result3 = alpha * beta * Sigma @ cal_zeta(r, p, q)\n",
    "    \n",
    "    return result1 + result2 + result3"
   ]
  },
  {
   "cell_type": "code",
   "execution_count": null,
   "id": "996630ae",
   "metadata": {},
   "outputs": [],
   "source": [
    "def cal_y_star(p, q):\n",
    "    return np.array([[math.sin(2 * math.pi * (p + q)) / 10], [0.5 * math.cos(2 * math.pi * (p-q)) / 10]])"
   ]
  },
  {
   "cell_type": "code",
   "execution_count": null,
   "id": "37122077",
   "metadata": {},
   "outputs": [],
   "source": [
    "def cal_y_hat(r, p, q):\n",
    "    if sigma[r][p][q] == 1:\n",
    "        Sigma = Sigma1\n",
    "    else:\n",
    "        Sigma = Sigma2\n",
    "    return y_ba[r][p][q] + (I - (1 - alpha) * Sigma) @ cal_y_star(p, q)"
   ]
  },
  {
   "cell_type": "code",
   "execution_count": null,
   "id": "ebb2e671",
   "metadata": {},
   "outputs": [],
   "source": [
    "def cal_u(r, p, q):\n",
    "    return u[r-1][p][q] + lambda1(r-1, p, q) * np.array([[0.5, 0], [0, 0.5]]) @ e_hat[r-1][p][q]\\\n",
    "            + lambda2(r-1, p, q) * np.array([[0.5, 0], [0, 0.5]]) @ e_hat[r-1][p][q]"
   ]
  },
  {
   "cell_type": "code",
   "execution_count": null,
   "id": "5c0c92aa",
   "metadata": {},
   "outputs": [],
   "source": [
    "def cal_w(r, p, q):\n",
    "    return np.array([[0.1 * math.sin(0.01 * math.pi * (p - q)) + 1e-5*np.power(0.1, r)], [0.09 * math.cos(0.01 * math.pi * (p + q)) + 1e-5*np.power(0.1, r)]])"
   ]
  },
  {
   "cell_type": "code",
   "execution_count": null,
   "id": "e85cfa7c",
   "metadata": {},
   "outputs": [],
   "source": [
    "def cal_v(r, p, q):\n",
    "    return np.array([[0.08 * math.sin(0.01 * math.pi * (p - q)) + 1e-5*np.power(0.1, r)], [0.09 * math.cos(0.01 * math.pi * (p + q)) + 1e-5*np.power(0.1, r)]])"
   ]
  },
  {
   "cell_type": "markdown",
   "id": "1d7f47b4",
   "metadata": {},
   "source": [
    "# 2. Iterative learning calculation"
   ]
  },
  {
   "cell_type": "code",
   "execution_count": null,
   "id": "d2a6550e",
   "metadata": {},
   "outputs": [],
   "source": [
    "for r in range(Num_r):\n",
    "    for p in range(Num_p):\n",
    "        for q in range(Num_q):\n",
    "            if q == 0 or p == 0 :\n",
    "                continue\n",
    "            x[r][p][q] = cal_x(r, p, q)\n",
    "            y[r][p][q] = cal_y(r, p, q)\n",
    "            sigma[r][p][q] = cal_sigma(r, p, q)\n",
    "            y_ba[r][p][q] = cal_y_ba(r, p, q)\n",
    "            y_hat[r][p][q] = cal_y_hat(r, p, q)\n",
    "            e[r][p][q] = y[r][p][q] - cal_y_star(p, q)\n",
    "            e_hat[r][p][q] = y_hat[r][p][q] - cal_y_star(p, q)\n",
    "            if r != Num_r-1:\n",
    "                u[r+1][p][q] = cal_u(r+1, p, q)\n"
   ]
  },
  {
   "cell_type": "markdown",
   "id": "3937f888",
   "metadata": {},
   "source": [
    "## 2.1 Calculate the error $e_r$ and $\\hat{e_r}$"
   ]
  },
  {
   "cell_type": "code",
   "execution_count": null,
   "id": "c8062c00",
   "metadata": {},
   "outputs": [],
   "source": [
    "result_e = np.zeros((Num_p, Num_q))\n",
    "for p in range(Num_p):\n",
    "    for q in range(Num_q):\n",
    "        result_e[p][q] = abs(e[Num_r-1][p][q][0][0]) + abs(e[Num_r-1][p][q][1][0])"
   ]
  },
  {
   "cell_type": "code",
   "execution_count": null,
   "id": "8b989991",
   "metadata": {},
   "outputs": [],
   "source": [
    "result_e_hat = np.zeros((Num_p, Num_q))\n",
    "for p in range(Num_p):\n",
    "    for q in range(Num_q):\n",
    "        result_e_hat[p][q] = abs(e_hat[Num_r-1][p][q][0][0]) + abs(e_hat[Num_r-1][p][q][1][0])"
   ]
  },
  {
   "cell_type": "markdown",
   "id": "51c3492e",
   "metadata": {},
   "source": [
    "# 3. Calculate $\\rho_2$"
   ]
  },
  {
   "cell_type": "code",
   "execution_count": null,
   "id": "cf0355ae",
   "metadata": {},
   "outputs": [],
   "source": [
    "phi = np.zeros((Num_r, Num_q))"
   ]
  },
  {
   "cell_type": "code",
   "execution_count": null,
   "id": "ac507800",
   "metadata": {
    "scrolled": true
   },
   "outputs": [],
   "source": [
    "omega_6 = np.zeros((Num_q, 16, 15, 2, 2))\n",
    "omega_1_ni = np.zeros((Num_q, 15, 15, 2, 2))\n",
    "omega_2 = np.zeros((Num_q, 15, 15, 2, 2))\n",
    "omega_5_tilde = np.zeros((Num_q, 32, 30))\n",
    "\n",
    "delta_x = np.zeros((Num_q, 30, 1))\n",
    "\n",
    "omega_5 = np.zeros((Num_q, 15, 1, 2, 2))\n",
    "omega_8 = np.zeros((Num_q, 16, 1, 2, 2))\n",
    "omega_8_tilde = np.zeros((Num_q, 32, 2))\n",
    "\n",
    "x_6 = np.zeros((Num_q, 2, 1))\n",
    "V_1 = np.zeros((Num_q, 30, 1))\n",
    "\n",
    "omega_6_tilde = np.zeros((Num_q, 30, 30))\n",
    "omega_3 = np.zeros((Num_q, 14, 15, 2, 2))\n",
    "omega_7 = np.zeros((Num_q, 15, 15, 2, 2))\n",
    "\n"
   ]
  },
  {
   "cell_type": "code",
   "execution_count": null,
   "id": "f18ff47c",
   "metadata": {},
   "outputs": [],
   "source": [
    "def cal_omega_6(r):\n",
    "    for q in range(Num_q):\n",
    "        for j in range(Num_p): \n",
    "            if sigma[r][j][q] == 1:\n",
    "                Sigma = Sigma1\n",
    "            else:\n",
    "                Sigma = Sigma2\n",
    "            D = lambda1(r, j, q) * np.array([[1, 0], [0, 1]]) + lambda2(r, j, q) \\\n",
    "                * np.array([[1, 0], [0, 1]])\n",
    "            omega_6[q][j+1][j] = Sigma @ D"
   ]
  },
  {
   "cell_type": "code",
   "execution_count": null,
   "id": "059e5d74",
   "metadata": {},
   "outputs": [],
   "source": [
    "def cal_omega_1_ni(r):\n",
    "    for q in range(Num_q):\n",
    "        for i in range(Num_p-1):\n",
    "            for j in range(Num_p-1):\n",
    "                if i == j:\n",
    "                    omega_1_ni[q][i][j] = np.array([[1, 0], [0, 1]])\n",
    "                elif i > j:\n",
    "                    M = i - j \n",
    "                    A = np.array([[1, 0], [0, 1]])\n",
    "                    for m in range(M):\n",
    "                        A = A @ ((lambda1(r, i-m-1, q) * A11 + lambda2(r, i-m-1, q) * A12))\n",
    "                    omega_1_ni[q][i][j] = A \n",
    "                else:\n",
    "                    continue"
   ]
  },
  {
   "cell_type": "code",
   "execution_count": null,
   "id": "66c56b80",
   "metadata": {},
   "outputs": [],
   "source": [
    "def cal_omega_2(r):\n",
    "    for q in range(Num_q):\n",
    "        for j in range(Num_p):\n",
    "            if q == 0:\n",
    "                omega_2[q][j][j] = np.zeros((2, 2))\n",
    "                continue\n",
    "            omega_2[q][j][j] = lambda1(r, j, q-1) * A11 + lambda2(r, j, q-1) "
   ]
  },
  {
   "cell_type": "code",
   "execution_count": null,
   "id": "732968d4",
   "metadata": {},
   "outputs": [],
   "source": [
    "def cal_omega_3(r):\n",
    "    for q in range(Num_q):\n",
    "        for i in range(Num_p-1):\n",
    "            omega_3[q][i][i] = (lambda1(r, i, q) * B11 + lambda2(r, i, q) * B12) @ \\\n",
    "                                (lambda1(r, i, q) * np.array([[0.5, 0], [0, 0.5]]) + lambda2(r, i, q) \\\n",
    "                                * np.array([[0.5, 0], [0, 0.5]]))"
   ]
  },
  {
   "cell_type": "code",
   "execution_count": null,
   "id": "4c60d298",
   "metadata": {
    "scrolled": true
   },
   "outputs": [],
   "source": [
    "def cal_omega_7(r):\n",
    "    for q in range(Num_q):\n",
    "        for i in range(Num_p):\n",
    "            if sigma[r][i][q] == 1:\n",
    "                Sigma = Sigma1\n",
    "            else:\n",
    "                Sigma = Sigma2\n",
    "            E = lambda1(r, i, q) * np.array([[-1, -0.5], [0.5, 1]]) + lambda2(r, i, q) \\\n",
    "                * np.array([[-1, -0.5], [0.5, 1]])\n",
    "            Gamma =  lambda1(r, i, q) * np.array([[0.5, 0], [0, 0.5]]) + lambda2(r, i, q) \\\n",
    "                                * np.array([[0.5, 0], [0, 0.5]])\n",
    "            omega_7[q][i][i] = np.array([[1, 0], [0, 1]]) + Sigma @ E @ Gamma"
   ]
  },
  {
   "cell_type": "code",
   "execution_count": null,
   "id": "252a6a40",
   "metadata": {},
   "outputs": [],
   "source": [
    "def cal_omega_5_tilde(r):\n",
    "    \n",
    "    cal_omega_6(r)\n",
    "    cal_omega_1_ni(r)\n",
    "    cal_omega_2(r)\n",
    "    for q in range(Num_q):\n",
    "        temp1 = omega_6[q].transpose(0, 2, 1, 3).reshape(32, 30)\n",
    "        temp2 = omega_1_ni[q].transpose(0, 2, 1, 3).reshape(30, 30)\n",
    "        temp3 = omega_2[q].transpose(0, 2, 1, 3).reshape(30, 30)\n",
    "\n",
    "        omega_5_tilde[q] = temp1 @ temp2 @ temp3\n"
   ]
  },
  {
   "cell_type": "code",
   "execution_count": null,
   "id": "79f9a906",
   "metadata": {},
   "outputs": [],
   "source": [
    "def cal_delta_x(r):\n",
    "    for q in range(Num_q):\n",
    "        if q == 0:\n",
    "            delta_x[q] = np.zeros((30, 1))\n",
    "            continue\n",
    "    \n",
    "        for p in range(Num_p):\n",
    "            if p == 0:\n",
    "                temp_x = (x[r+1][p][q-1]-x[r][p][q-1]).T\n",
    "            else:\n",
    "                temp_x = np.concatenate((temp_x, (x[r+1][p][q-1]-x[r][p][q-1]).T))\n",
    "            if p == 14:\n",
    "                temp_x = temp_x.reshape(1, 30)\n",
    "                delta_x[q] = temp_x.T"
   ]
  },
  {
   "cell_type": "code",
   "execution_count": null,
   "id": "2cab7f25",
   "metadata": {},
   "outputs": [],
   "source": [
    "def cal_omega_5(r):\n",
    "    for q in range(Num_q):\n",
    "        omega_5[q][0][0] = lambda1(r, 0, q) * A11 + lambda2(r, 0, q) * A12"
   ]
  },
  {
   "cell_type": "code",
   "execution_count": null,
   "id": "651f943c",
   "metadata": {},
   "outputs": [],
   "source": [
    "def cal_omega_8(r):\n",
    "    for q in range(Num_q):\n",
    "        if sigma[r][0][q] == 1:\n",
    "            Sigma = Sigma1\n",
    "        else:\n",
    "            Sigma = Sigma2\n",
    "        omega_8[q][0][0] = (1 - alpha) * Sigma @ (lambda1(r, 0, q) * D1 + lambda2(r, 0, q) * D2)    "
   ]
  },
  {
   "cell_type": "code",
   "execution_count": null,
   "id": "4897e92f",
   "metadata": {},
   "outputs": [],
   "source": [
    "def cal_omega_8_tilde(r):\n",
    "    cal_omega_5(r)\n",
    "    cal_omega_8(r)\n",
    "    for q in range(Num_q):\n",
    "        temp1 = omega_6[q].transpose(0, 2, 1, 3).reshape(32, 30)\n",
    "        temp2 = omega_1_ni[q].transpose(0, 2, 1, 3).reshape(30, 30)\n",
    "        temp3 = omega_5[q].transpose(0, 2, 1, 3).reshape(30, 2)\n",
    "        temp4 = omega_8[q].transpose(0, 2, 1, 3).reshape(32, 2)\n",
    "        \n",
    "        omega_8_tilde[q] = temp1 @ temp2 @ temp3 + temp4"
   ]
  },
  {
   "cell_type": "code",
   "execution_count": null,
   "id": "6fbe82c1",
   "metadata": {},
   "outputs": [],
   "source": [
    "def cal_x_6(r):\n",
    "    for q in range(Num_q):\n",
    "        x_6[q] = x[r+1][0][q] - x[r][0][q]"
   ]
  },
  {
   "cell_type": "code",
   "execution_count": null,
   "id": "50778980",
   "metadata": {},
   "outputs": [],
   "source": [
    "def cal_V_1(r):\n",
    "    for q in range(Num_q):\n",
    "        if q == 0:\n",
    "            V_1[q] = np.zeros((30, 1))\n",
    "            continue\n",
    "        \n",
    "        for p in range(Num_p):\n",
    "            if sigma[r][p][q] == 1:\n",
    "                Sigma = Sigma1\n",
    "            else:\n",
    "                Sigma = Sigma2\n",
    "            if p == 0:\n",
    "                temp_v = ((I - Sigma) @ (y_ba[r+1][p][q-1] - y_ba[r][p][q-1]) + \\\n",
    "                alpha * beta * Sigma @ (cal_zeta(r+1, p, q) - cal_zeta(r, p, q))).T\n",
    "            else:\n",
    "                temp_v = np.concatenate((temp_v, ((I - Sigma) @ (y_ba[r+1][p][q-1] - y_ba[r][p][q-1]) + \\\n",
    "                alpha * beta * Sigma @ (cal_zeta(r+1, p, q) - cal_zeta(r, p, q))).T))\n",
    "            if p == 14:\n",
    "                temp_v = temp_v.reshape(1, 30)\n",
    "                V_1[q] = temp_v.T"
   ]
  },
  {
   "cell_type": "code",
   "execution_count": null,
   "id": "25d8aef4",
   "metadata": {},
   "outputs": [],
   "source": [
    "def cal_phi():\n",
    "    for r in range(Num_r-1):\n",
    "        cal_omega_5_tilde(r)\n",
    "        cal_delta_x(r)\n",
    "        cal_omega_8_tilde(r)\n",
    "        cal_x_6(r)\n",
    "        cal_V_1(r)\n",
    "        for q in range(Num_q):\n",
    "            E_1 = np.max(np.sum(np.abs(omega_5_tilde[q]), axis=0))\n",
    "            E_2 = np.max(np.sum(np.abs(delta_x[q]), axis=0))\n",
    "            \n",
    "            E_5 = np.max(np.sum(np.abs(omega_8_tilde[q]), axis=0))\n",
    "            E_6 = np.max(np.sum(np.abs(x_6[q]), axis=0))\n",
    "            \n",
    "            E_7 = np.max(np.sum(np.abs(V_1[q]), axis=0))            \n",
    "            \n",
    "            phi[r][q] = E_1 * E_2 + E_5 * E_6 + E_7"
   ]
  },
  {
   "cell_type": "code",
   "execution_count": null,
   "id": "35a664ac",
   "metadata": {},
   "outputs": [],
   "source": [
    "cal_phi()"
   ]
  },
  {
   "cell_type": "code",
   "execution_count": null,
   "id": "c43a46a8",
   "metadata": {},
   "outputs": [],
   "source": [
    "def cal_rho():\n",
    "    max_rho = 0\n",
    "    max_phi = (0, 0)\n",
    "    for r in range(Num_r-1):\n",
    "        E_1 = np.zeros((Num_q, Num_p, 2, 1))\n",
    "        E_2 = np.zeros((Num_q, Num_p, 2, 1))\n",
    "        \n",
    "        for q in range(Num_q):\n",
    "            for p in range(Num_p):\n",
    "                if sigma[r][p][q] == 1:\n",
    "                    Sigma = Sigma1\n",
    "                else:\n",
    "                    Sigma = Sigma2\n",
    "                if q == 0:\n",
    "                    E_1[0][p] = (I - Sigma) @ np.zeros((2, 1))\n",
    "                else:\n",
    "                    E_1[q][p] = (I - Sigma) @ y_ba[r][p][q-1]\n",
    "                E_2[q][p] = Sigma @ cal_zeta(r, p, q)\n",
    "\n",
    "        if r < 998:\n",
    "            continue\n",
    "        else:\n",
    "            for q in range(Num_q):\n",
    "                temp1 = phi[r][q] \n",
    "                temp2 = np.max(E_1[q])\n",
    "                temp3 = alpha * beta * np.max(E_2[q])\n",
    "                temp = temp1 + temp2 + temp3\n",
    "                if temp > max_rho:\n",
    "                    max_rho = temp\n",
    "                    max_phi = (r, q)\n",
    "                    print('max_phi', max_phi)\n",
    "                    print('phi', phi[r][q])\n",
    "\n",
    "    print(max_rho)\n",
    "    return  (1/(1-alpha)) * max_rho\n",
    "\n",
    "                \n",
    "                    "
   ]
  },
  {
   "cell_type": "code",
   "execution_count": null,
   "id": "d9e585e3",
   "metadata": {},
   "outputs": [],
   "source": [
    "cal_rho()"
   ]
  },
  {
   "cell_type": "markdown",
   "id": "409aeca7",
   "metadata": {},
   "source": [
    "# 4. Draw the figs"
   ]
  },
  {
   "cell_type": "code",
   "execution_count": null,
   "id": "4e26064c",
   "metadata": {},
   "outputs": [],
   "source": [
    "plt.rc('font', family='Times New Roman') \n",
    "plt.rc('text', usetex=True) #Latex\n",
    "plt.rc('text.latex', preamble=r'\\usepackage{amssymb}') "
   ]
  },
  {
   "cell_type": "code",
   "execution_count": null,
   "id": "69729f90",
   "metadata": {},
   "outputs": [],
   "source": [
    "m = np.arange(0, Num_p)\n",
    "n = np.arange(0, Num_q)\n",
    "\n",
    "X, Y = np.meshgrid(m, n)\n",
    "Z1 = result_e.T\n",
    "Z2 = result_e_hat.T"
   ]
  },
  {
   "cell_type": "code",
   "execution_count": null,
   "id": "ab6a23da",
   "metadata": {
    "scrolled": true
   },
   "outputs": [],
   "source": [
    "fig = plt.figure(figsize=(12, 15), constrained_layout=True) \n",
    "ax = fig.add_subplot(111, projection='3d') \n",
    "ax.plot_surface(X, Y, Z1, cmap='rainbow', rstride=2, cstride=2, edgecolor='green', shade=True, alpha=0.7)\n",
    "\n",
    "Z_plane = np.full_like(Z2, 0.18)\n",
    "ax.plot_surface(X, Y, Z_plane, color='red', alpha=0.3)\n",
    "\n",
    "ax.set_xlabel(r'$p$', fontsize=30, labelpad=30, fontweight='bold')\n",
    "ax.set_ylabel(r'$q$', fontsize=30, labelpad=30, fontweight='bold')\n",
    "ax.set_zlabel(r'$\\mathbb{E}(||{e_r}(p,q)||)$', fontsize=25, labelpad=0, fontweight='bold')\n",
    "ax.zaxis.set_rotate_label(False) \n",
    "\n",
    "ax.xaxis._axinfo['axisline']['linewidth'] = 1.2\n",
    "ax.yaxis._axinfo['axisline']['linewidth'] = 1.2\n",
    "ax.zaxis._axinfo['axisline']['linewidth'] = 1.2\n",
    "\n",
    "plt.tick_params(labelsize=30)\n",
    "ax.zaxis.get_offset_text().set_fontsize(30)\n",
    "\n",
    "ax.set_xticks(np.linspace(0, 15, 6))  \n",
    "ax.set_yticks(np.linspace(0, 20, 6))  \n",
    "ax.set_zticks(np.linspace(0, 0.4, 3))  \n",
    "ax.tick_params(axis='z', which='major', pad=10)\n",
    "\n",
    "\n",
    "ax.set_title(r'$r={}$'.format(Num_r), fontsize=35, x=0.45, y=0.97)\n",
    "\n",
    "\n",
    "ax.xaxis.set_pane_color((1.0, 1.0, 1.0, 1.0))\n",
    "ax.yaxis.set_pane_color((1.0, 1.0, 1.0, 1.0))\n",
    "ax.zaxis.set_pane_color((1.0, 1.0, 1.0, 1.0))\n",
    "\n",
    "\n",
    "ax.view_init(elev=20, azim=20)\n",
    "\n",
    "ax.set_zlabel('')\n",
    "ax.zaxis.set_rotate_label(False)\n",
    "\n",
    "ax.tick_params(axis='z', pad=5)\n",
    "\n",
    "fig.text(\n",
    "    0.05, 0.70, \n",
    "    r'$\\mathbb{E}(||e_r(p,q)||)$', \n",
    "    rotation=0,\n",
    "    fontsize=25, fontweight='bold',\n",
    "    ha='center', va='center'\n",
    ")\n",
    "\n",
    "fig.subplots_adjust(left=0.2, right=0.8, top=0.92, bottom=0.08)\n",
    "\n",
    "plt.savefig('./outputs/708_e_r=500_disturbance.eps', dpi=300, format='eps', bbox_inches='tight')\n",
    "# plt.savefig('./outputs/708_e_r=1000_disturbance.eps', dpi=300, format='eps', bbox_inches='tight')\n",
    "\n",
    "\n",
    "plt.show()"
   ]
  },
  {
   "cell_type": "code",
   "execution_count": null,
   "id": "cf99b792",
   "metadata": {
    "scrolled": true
   },
   "outputs": [],
   "source": [
    "fig = plt.figure(figsize=(12, 15), constrained_layout=True)\n",
    "ax = fig.add_subplot(111, projection='3d') \n",
    "ax.plot_surface(X, Y, Z2, cmap='rainbow', rstride=2, cstride=2, edgecolor='green', shade=True, alpha=0.7)\n",
    "\n",
    "Z_plane = np.full_like(Z2, 0.15)\n",
    "ax.plot_surface(X, Y, Z_plane, color='red', alpha=0.3)\n",
    "\n",
    "ax.set_xlabel(r'$p$', fontsize=30, labelpad=30, fontweight='bold')\n",
    "ax.set_ylabel(r'$q$', fontsize=30, labelpad=30, fontweight='bold')\n",
    "ax.set_zlabel(r'$\\mathbb E(||{\\hat e_r}(p,q)||)$', fontsize=25, labelpad=75, fontweight='bold')\n",
    "ax.zaxis.set_rotate_label(False) \n",
    "\n",
    "ax.xaxis._axinfo['axisline']['linewidth'] = 1.2\n",
    "ax.yaxis._axinfo['axisline']['linewidth'] = 1.2\n",
    "ax.zaxis._axinfo['axisline']['linewidth'] = 1.2\n",
    "\n",
    "\n",
    "plt.tick_params(labelsize=30)\n",
    "ax.zaxis.get_offset_text().set_fontsize(30)\n",
    "\n",
    "ax.set_xticks(np.linspace(0, 15, 6))  \n",
    "ax.set_yticks(np.linspace(0, 20, 6))  \n",
    "ax.set_zticks(np.linspace(0, 0.4, 3))  \n",
    "ax.tick_params(axis='z', which='major', pad=10)\n",
    "\n",
    "ax.set_title(r'$r={}$'.format(Num_r), fontsize=35, x=0.45, y=0.97)\n",
    "\n",
    "ax.xaxis.set_pane_color((1.0, 1.0, 1.0, 1.0))\n",
    "ax.yaxis.set_pane_color((1.0, 1.0, 1.0, 1.0))\n",
    "ax.zaxis.set_pane_color((1.0, 1.0, 1.0, 1.0))\n",
    "\n",
    "ax.view_init(elev=20, azim=20)\n",
    "\n",
    "\n",
    "ax.set_zlabel('')\n",
    "ax.zaxis.set_rotate_label(False)\n",
    "\n",
    "ax.tick_params(axis='z', pad=5)\n",
    "\n",
    "fig.text(\n",
    "    0.05, 0.70, \n",
    "    r'$\\mathbb E(||{\\hat e_r}(p,q)||)$', \n",
    "    rotation=0,\n",
    "    fontsize=25, fontweight='bold',\n",
    "    ha='center', va='center'\n",
    ")\n",
    "\n",
    "fig.subplots_adjust(left=0.2, right=0.8, top=0.92, bottom=0.08)\n",
    "\n",
    "plt.savefig('./outputs/708_e_hat_r=500_disturbance.eps', dpi=300, format='eps', bbox_inches='tight')\n",
    "# plt.savefig('./outputs/708_e_hat_r=1000_disturbance.eps', dpi=300, format='eps', bbox_inches='tight')\n",
    "\n",
    "\n",
    "plt.show()"
   ]
  },
  {
   "cell_type": "code",
   "execution_count": null,
   "id": "4a6e657d",
   "metadata": {},
   "outputs": [],
   "source": [
    "result_sigma = sigma[Num_r-1] \n",
    "\n",
    "x = np.arange(0, Num_p)\n",
    "y = np.arange(0, Num_q)\n",
    "\n",
    "\n",
    "X, Y = np.meshgrid(x, y)\n",
    "Result_sigma = result_sigma.T"
   ]
  },
  {
   "cell_type": "code",
   "execution_count": null,
   "id": "0fe6993b",
   "metadata": {
    "scrolled": true
   },
   "outputs": [
    {
     "name": "stderr",
     "output_type": "stream",
     "text": [
      "The PostScript backend does not support transparency; partially transparent artists will be rendered opaque.\n",
      "The PostScript backend does not support transparency; partially transparent artists will be rendered opaque.\n",
      "The PostScript backend does not support transparency; partially transparent artists will be rendered opaque.\n",
      "The PostScript backend does not support transparency; partially transparent artists will be rendered opaque.\n",
      "The PostScript backend does not support transparency; partially transparent artists will be rendered opaque.\n",
      "The PostScript backend does not support transparency; partially transparent artists will be rendered opaque.\n",
      "The PostScript backend does not support transparency; partially transparent artists will be rendered opaque.\n",
      "The PostScript backend does not support transparency; partially transparent artists will be rendered opaque.\n",
      "The PostScript backend does not support transparency; partially transparent artists will be rendered opaque.\n",
      "The PostScript backend does not support transparency; partially transparent artists will be rendered opaque.\n",
      "The PostScript backend does not support transparency; partially transparent artists will be rendered opaque.\n",
      "The PostScript backend does not support transparency; partially transparent artists will be rendered opaque.\n",
      "The PostScript backend does not support transparency; partially transparent artists will be rendered opaque.\n",
      "The PostScript backend does not support transparency; partially transparent artists will be rendered opaque.\n",
      "The PostScript backend does not support transparency; partially transparent artists will be rendered opaque.\n",
      "The PostScript backend does not support transparency; partially transparent artists will be rendered opaque.\n",
      "The PostScript backend does not support transparency; partially transparent artists will be rendered opaque.\n",
      "The PostScript backend does not support transparency; partially transparent artists will be rendered opaque.\n",
      "The PostScript backend does not support transparency; partially transparent artists will be rendered opaque.\n",
      "The PostScript backend does not support transparency; partially transparent artists will be rendered opaque.\n",
      "The PostScript backend does not support transparency; partially transparent artists will be rendered opaque.\n",
      "The PostScript backend does not support transparency; partially transparent artists will be rendered opaque.\n",
      "The PostScript backend does not support transparency; partially transparent artists will be rendered opaque.\n",
      "The PostScript backend does not support transparency; partially transparent artists will be rendered opaque.\n",
      "The PostScript backend does not support transparency; partially transparent artists will be rendered opaque.\n",
      "The PostScript backend does not support transparency; partially transparent artists will be rendered opaque.\n",
      "The PostScript backend does not support transparency; partially transparent artists will be rendered opaque.\n",
      "The PostScript backend does not support transparency; partially transparent artists will be rendered opaque.\n",
      "The PostScript backend does not support transparency; partially transparent artists will be rendered opaque.\n",
      "The PostScript backend does not support transparency; partially transparent artists will be rendered opaque.\n",
      "The PostScript backend does not support transparency; partially transparent artists will be rendered opaque.\n",
      "The PostScript backend does not support transparency; partially transparent artists will be rendered opaque.\n",
      "The PostScript backend does not support transparency; partially transparent artists will be rendered opaque.\n",
      "The PostScript backend does not support transparency; partially transparent artists will be rendered opaque.\n",
      "The PostScript backend does not support transparency; partially transparent artists will be rendered opaque.\n",
      "The PostScript backend does not support transparency; partially transparent artists will be rendered opaque.\n",
      "The PostScript backend does not support transparency; partially transparent artists will be rendered opaque.\n",
      "The PostScript backend does not support transparency; partially transparent artists will be rendered opaque.\n",
      "The PostScript backend does not support transparency; partially transparent artists will be rendered opaque.\n",
      "The PostScript backend does not support transparency; partially transparent artists will be rendered opaque.\n",
      "The PostScript backend does not support transparency; partially transparent artists will be rendered opaque.\n",
      "The PostScript backend does not support transparency; partially transparent artists will be rendered opaque.\n",
      "The PostScript backend does not support transparency; partially transparent artists will be rendered opaque.\n",
      "The PostScript backend does not support transparency; partially transparent artists will be rendered opaque.\n",
      "The PostScript backend does not support transparency; partially transparent artists will be rendered opaque.\n",
      "The PostScript backend does not support transparency; partially transparent artists will be rendered opaque.\n",
      "The PostScript backend does not support transparency; partially transparent artists will be rendered opaque.\n",
      "The PostScript backend does not support transparency; partially transparent artists will be rendered opaque.\n",
      "The PostScript backend does not support transparency; partially transparent artists will be rendered opaque.\n",
      "The PostScript backend does not support transparency; partially transparent artists will be rendered opaque.\n",
      "The PostScript backend does not support transparency; partially transparent artists will be rendered opaque.\n",
      "The PostScript backend does not support transparency; partially transparent artists will be rendered opaque.\n",
      "The PostScript backend does not support transparency; partially transparent artists will be rendered opaque.\n",
      "The PostScript backend does not support transparency; partially transparent artists will be rendered opaque.\n",
      "The PostScript backend does not support transparency; partially transparent artists will be rendered opaque.\n",
      "The PostScript backend does not support transparency; partially transparent artists will be rendered opaque.\n",
      "The PostScript backend does not support transparency; partially transparent artists will be rendered opaque.\n",
      "The PostScript backend does not support transparency; partially transparent artists will be rendered opaque.\n",
      "The PostScript backend does not support transparency; partially transparent artists will be rendered opaque.\n",
      "The PostScript backend does not support transparency; partially transparent artists will be rendered opaque.\n",
      "The PostScript backend does not support transparency; partially transparent artists will be rendered opaque.\n",
      "The PostScript backend does not support transparency; partially transparent artists will be rendered opaque.\n",
      "The PostScript backend does not support transparency; partially transparent artists will be rendered opaque.\n",
      "The PostScript backend does not support transparency; partially transparent artists will be rendered opaque.\n",
      "The PostScript backend does not support transparency; partially transparent artists will be rendered opaque.\n",
      "The PostScript backend does not support transparency; partially transparent artists will be rendered opaque.\n",
      "The PostScript backend does not support transparency; partially transparent artists will be rendered opaque.\n",
      "The PostScript backend does not support transparency; partially transparent artists will be rendered opaque.\n",
      "The PostScript backend does not support transparency; partially transparent artists will be rendered opaque.\n",
      "The PostScript backend does not support transparency; partially transparent artists will be rendered opaque.\n",
      "The PostScript backend does not support transparency; partially transparent artists will be rendered opaque.\n",
      "The PostScript backend does not support transparency; partially transparent artists will be rendered opaque.\n",
      "The PostScript backend does not support transparency; partially transparent artists will be rendered opaque.\n",
      "The PostScript backend does not support transparency; partially transparent artists will be rendered opaque.\n",
      "The PostScript backend does not support transparency; partially transparent artists will be rendered opaque.\n",
      "The PostScript backend does not support transparency; partially transparent artists will be rendered opaque.\n"
     ]
    },
    {
     "name": "stderr",
     "output_type": "stream",
     "text": [
      "The PostScript backend does not support transparency; partially transparent artists will be rendered opaque.\n",
      "The PostScript backend does not support transparency; partially transparent artists will be rendered opaque.\n",
      "The PostScript backend does not support transparency; partially transparent artists will be rendered opaque.\n",
      "The PostScript backend does not support transparency; partially transparent artists will be rendered opaque.\n",
      "The PostScript backend does not support transparency; partially transparent artists will be rendered opaque.\n",
      "The PostScript backend does not support transparency; partially transparent artists will be rendered opaque.\n",
      "The PostScript backend does not support transparency; partially transparent artists will be rendered opaque.\n",
      "The PostScript backend does not support transparency; partially transparent artists will be rendered opaque.\n",
      "The PostScript backend does not support transparency; partially transparent artists will be rendered opaque.\n",
      "The PostScript backend does not support transparency; partially transparent artists will be rendered opaque.\n",
      "The PostScript backend does not support transparency; partially transparent artists will be rendered opaque.\n",
      "The PostScript backend does not support transparency; partially transparent artists will be rendered opaque.\n",
      "The PostScript backend does not support transparency; partially transparent artists will be rendered opaque.\n",
      "The PostScript backend does not support transparency; partially transparent artists will be rendered opaque.\n",
      "The PostScript backend does not support transparency; partially transparent artists will be rendered opaque.\n",
      "The PostScript backend does not support transparency; partially transparent artists will be rendered opaque.\n",
      "The PostScript backend does not support transparency; partially transparent artists will be rendered opaque.\n",
      "The PostScript backend does not support transparency; partially transparent artists will be rendered opaque.\n",
      "The PostScript backend does not support transparency; partially transparent artists will be rendered opaque.\n",
      "The PostScript backend does not support transparency; partially transparent artists will be rendered opaque.\n",
      "The PostScript backend does not support transparency; partially transparent artists will be rendered opaque.\n",
      "The PostScript backend does not support transparency; partially transparent artists will be rendered opaque.\n",
      "The PostScript backend does not support transparency; partially transparent artists will be rendered opaque.\n",
      "The PostScript backend does not support transparency; partially transparent artists will be rendered opaque.\n",
      "The PostScript backend does not support transparency; partially transparent artists will be rendered opaque.\n",
      "The PostScript backend does not support transparency; partially transparent artists will be rendered opaque.\n",
      "The PostScript backend does not support transparency; partially transparent artists will be rendered opaque.\n",
      "The PostScript backend does not support transparency; partially transparent artists will be rendered opaque.\n",
      "The PostScript backend does not support transparency; partially transparent artists will be rendered opaque.\n",
      "The PostScript backend does not support transparency; partially transparent artists will be rendered opaque.\n",
      "The PostScript backend does not support transparency; partially transparent artists will be rendered opaque.\n",
      "The PostScript backend does not support transparency; partially transparent artists will be rendered opaque.\n",
      "The PostScript backend does not support transparency; partially transparent artists will be rendered opaque.\n",
      "The PostScript backend does not support transparency; partially transparent artists will be rendered opaque.\n",
      "The PostScript backend does not support transparency; partially transparent artists will be rendered opaque.\n",
      "The PostScript backend does not support transparency; partially transparent artists will be rendered opaque.\n",
      "The PostScript backend does not support transparency; partially transparent artists will be rendered opaque.\n",
      "The PostScript backend does not support transparency; partially transparent artists will be rendered opaque.\n",
      "The PostScript backend does not support transparency; partially transparent artists will be rendered opaque.\n",
      "The PostScript backend does not support transparency; partially transparent artists will be rendered opaque.\n",
      "The PostScript backend does not support transparency; partially transparent artists will be rendered opaque.\n",
      "The PostScript backend does not support transparency; partially transparent artists will be rendered opaque.\n",
      "The PostScript backend does not support transparency; partially transparent artists will be rendered opaque.\n",
      "The PostScript backend does not support transparency; partially transparent artists will be rendered opaque.\n",
      "The PostScript backend does not support transparency; partially transparent artists will be rendered opaque.\n",
      "The PostScript backend does not support transparency; partially transparent artists will be rendered opaque.\n",
      "The PostScript backend does not support transparency; partially transparent artists will be rendered opaque.\n",
      "The PostScript backend does not support transparency; partially transparent artists will be rendered opaque.\n",
      "The PostScript backend does not support transparency; partially transparent artists will be rendered opaque.\n",
      "The PostScript backend does not support transparency; partially transparent artists will be rendered opaque.\n",
      "The PostScript backend does not support transparency; partially transparent artists will be rendered opaque.\n",
      "The PostScript backend does not support transparency; partially transparent artists will be rendered opaque.\n",
      "The PostScript backend does not support transparency; partially transparent artists will be rendered opaque.\n",
      "The PostScript backend does not support transparency; partially transparent artists will be rendered opaque.\n",
      "The PostScript backend does not support transparency; partially transparent artists will be rendered opaque.\n",
      "The PostScript backend does not support transparency; partially transparent artists will be rendered opaque.\n",
      "The PostScript backend does not support transparency; partially transparent artists will be rendered opaque.\n",
      "The PostScript backend does not support transparency; partially transparent artists will be rendered opaque.\n",
      "The PostScript backend does not support transparency; partially transparent artists will be rendered opaque.\n",
      "The PostScript backend does not support transparency; partially transparent artists will be rendered opaque.\n",
      "The PostScript backend does not support transparency; partially transparent artists will be rendered opaque.\n",
      "The PostScript backend does not support transparency; partially transparent artists will be rendered opaque.\n",
      "The PostScript backend does not support transparency; partially transparent artists will be rendered opaque.\n",
      "The PostScript backend does not support transparency; partially transparent artists will be rendered opaque.\n",
      "The PostScript backend does not support transparency; partially transparent artists will be rendered opaque.\n",
      "The PostScript backend does not support transparency; partially transparent artists will be rendered opaque.\n"
     ]
    },
    {
     "data": {
      "image/png": "[encoded data removed]",
      "text/plain": [
       "<Figure size 1080x1296 with 1 Axes>"
      ]
     },
     "metadata": {
      "needs_background": "light"
     },
     "output_type": "display_data"
    }
   ],
   "source": [
    "fig = plt.figure(figsize=(15, 18), constrained_layout=True) \n",
    "ax = fig.add_subplot(111, projection='3d') \n",
    "# ax.plot_surface(X, Y, Result_sigma, cmap=new_cmap, edgecolor='none', shade=True)\n",
    "color_map = {1: 'red', 2: 'blue', 0:'white'}\n",
    "colors = np.vectorize(color_map.get)(Result_sigma)\n",
    "ax.scatter(X.flatten(), Y.flatten(), Result_sigma.flatten(), c=colors.flatten(), marker='o')\n",
    "\n",
    "\n",
    "\n",
    "ax.set_xlabel(r'$p$', fontsize=40, labelpad=25)\n",
    "ax.set_ylabel(r'$q$', fontsize=40, labelpad=25)\n",
    "ax.set_zlabel(r'$\\sigma(p, q)$', fontsize=40, labelpad=30)\n",
    "ax.zaxis.set_rotate_label(False) \n",
    "\n",
    "ax.xaxis._axinfo['axisline']['linewidth'] = 1.2\n",
    "ax.yaxis._axinfo['axisline']['linewidth'] = 1.2\n",
    "ax.zaxis._axinfo['axisline']['linewidth'] = 1.2\n",
    "\n",
    "\n",
    "plt.tick_params(labelsize=30)\n",
    "\n",
    "\n",
    "ax.set_title(r'$r={}$'.format(Num_r), fontsize=35, x=0.45, y=0.97)\n",
    "\n",
    "\n",
    "ax.set_xticks(np.linspace(0, 15, 6))  \n",
    "ax.set_yticks(np.linspace(0, 20, 6))  \n",
    "ax.set_zticks(np.linspace(0, 2, 3))  \n",
    "\n",
    "\n",
    "ax.xaxis.set_pane_color((1.0, 1.0, 1.0, 1.0))\n",
    "ax.yaxis.set_pane_color((1.0, 1.0, 1.0, 1.0))\n",
    "ax.zaxis.set_pane_color((1.0, 1.0, 1.0, 1.0))\n",
    "\n",
    "\n",
    "ax.view_init(elev=20, azim=20)\n",
    "\n",
    "ax.set_zlabel('')\n",
    "ax.zaxis.set_rotate_label(False)\n",
    "\n",
    "ax.tick_params(axis='z', pad=5)\n",
    "\n",
    "fig.text(\n",
    "    0.05, 0.70, \n",
    "    r'$\\sigma(p, q)$', \n",
    "    rotation=0,\n",
    "    fontsize=40, fontweight='bold',\n",
    "    ha='center', va='center'\n",
    ")\n",
    "\n",
    "fig.subplots_adjust(left=0.2, right=0.8, top=0.92, bottom=0.08)\n",
    "\n",
    "plt.savefig('./outputs/708_sigma_r=500_disturbance.eps', dpi=300, format='eps')\n",
    "# plt.savefig('./outputs/708_sigma_r=1000_disturbance.eps', dpi=300, format='eps')\n",
    "\n",
    "plt.show()"
   ]
  },
  {
   "cell_type": "code",
   "execution_count": null,
   "id": "4f5da727",
   "metadata": {},
   "outputs": [],
   "source": []
  },
  {
   "cell_type": "code",
   "execution_count": null,
   "id": "e824fa0e-bfaa-47d4-8d75-48f6ed443819",
   "metadata": {},
   "outputs": [],
   "source": []
  }
 ],
 "metadata": {
  "kernelspec": {
   "display_name": "Python 3 (ipykernel)",
   "language": "python",
   "name": "python3"
  },
  "language_info": {
   "codemirror_mode": {
    "name": "ipython",
    "version": 3
   },
   "file_extension": ".py",
   "mimetype": "text/x-python",
   "name": "python",
   "nbconvert_exporter": "python",
   "pygments_lexer": "ipython3",
   "version": "3.12.7"
  }
 },
 "nbformat": 4,
 "nbformat_minor": 5
}
