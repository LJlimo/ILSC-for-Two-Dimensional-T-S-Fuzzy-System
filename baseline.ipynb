{
 "cells": [
  {
   "cell_type": "code",
   "execution_count": null,
   "id": "3293e2c1-a04f-4615-8d54-0f366c529b42",
   "metadata": {},
   "outputs": [],
   "source": [
    "import numpy as np\n",
    "import math"
   ]
  },
  {
   "cell_type": "markdown",
   "id": "53857bc8-c737-4f55-9eeb-3b0eead7081b",
   "metadata": {},
   "source": [
    "## 1.Without distrubance"
   ]
  },
  {
   "cell_type": "code",
   "execution_count": null,
   "id": "a4e6403f-31f5-4377-a8f0-dceea3c6cb07",
   "metadata": {},
   "outputs": [],
   "source": [
    "A1 = np.array([[0.3, 0.5], [0.5, 0.3]])\n",
    "A2 = np.array([[0.2, 0], [0, 0.2]])\n",
    "B1 = np.array([[0.01, 0], [0.01, 0.01]])\n",
    "B2 = np.array([[0., 0.], [0., 0.]])\n",
    "D = np.array([[1, 0], [0, 1]])\n",
    "E = np.array([[-1, 0], [0, -1]])\n",
    "\n",
    "Gamma = np.array([[0.5, 0], [0, 0.5]])"
   ]
  },
  {
   "cell_type": "code",
   "execution_count": null,
   "id": "447c21fa-0784-48d0-8f60-83ae769e8a81",
   "metadata": {},
   "outputs": [],
   "source": [
    "Num_p, Num_q, Num_r = 15, 20, 1000\n",
    "\n",
    "x = np.zeros((Num_r, Num_p, Num_q, 2, 1))\n",
    "y = np.zeros((Num_r, Num_p, Num_q, 2, 1))\n",
    "u = np.zeros((Num_r, Num_p, Num_q, 2, 1))\n",
    "e = np.zeros((Num_r, Num_p, Num_q, 2, 1))\n",
    "# e_hat = np.zeros((Num_r, Num_p, Num_q, 2, 1))\n",
    "\n",
    "# initialize x\n",
    "for r in range(Num_r):\n",
    "    for p in range(Num_p):\n",
    "        x[r][p][0] = np.array([[-math.sin(2 * math.pi * p / 10)], [- math.cos(2 * math.pi * p / 10)]])\\\n",
    "        + np.array([[pow(0.2, r)], [pow(0.2, r)]])\n",
    "    for q in range(Num_q):\n",
    "        x[r][0][q] = np.array([[-math.sin(2 * math.pi * q / 10)], [- math.cos(2 * math.pi * q / 10)]])\\\n",
    "        + np.array([[pow(0.2, r)], [pow(0.2, r)]])"
   ]
  },
  {
   "cell_type": "code",
   "execution_count": null,
   "id": "a54d47f6-5124-4183-bd13-e809d06b44da",
   "metadata": {},
   "outputs": [],
   "source": [
    "def cal_x(r, p, q):\n",
    "    if p-1 < 0:\n",
    "        result1 = A1 @ x[r][0][q] + B1 @ u[r][0][q]\n",
    "    else:\n",
    "        result1 = A1 @ x[r][p-1][q] + B1 @ u[r][p-1][q]\n",
    "    if q-1 < 0:\n",
    "        result2 = A2 @ x[r][p][0] + B2 @ u[r][p][0]\n",
    "    else:\n",
    "        result2 = A2 @ x[r][p][q-1] + B2 @ u[r][p][q-1]\n",
    "\n",
    "    return result1 + result2"
   ]
  },
  {
   "cell_type": "code",
   "execution_count": null,
   "id": "c4cef5ce-3f23-47ca-b123-bbfbff12a17e",
   "metadata": {},
   "outputs": [],
   "source": [
    "def cal_y(r, p, q):\n",
    "    result = D @ x[r][p][q] + E @ u[r][p][q]\n",
    "    return result"
   ]
  },
  {
   "cell_type": "code",
   "execution_count": null,
   "id": "04668c8c-d2df-4963-ba1d-d64596d0cef8",
   "metadata": {},
   "outputs": [],
   "source": [
    "def cal_y_star(p, q):\n",
    "    return np.array([[math.sin(2 * math.pi * (p + q)) / 10], [0.5 * math.cos(2 * math.pi * (p-q)) / 10]])"
   ]
  },
  {
   "cell_type": "code",
   "execution_count": null,
   "id": "6234ba5b-6415-4dba-9fac-9646f370753a",
   "metadata": {},
   "outputs": [],
   "source": [
    "def cal_u(r, p, q):\n",
    "    return u[r-1][p][q] + Gamma @ e[r-1][p][q]"
   ]
  },
  {
   "cell_type": "code",
   "execution_count": null,
   "id": "a8379a19-8987-4137-872e-901bc2a7aa89",
   "metadata": {},
   "outputs": [],
   "source": [
    "for r in range(Num_r):\n",
    "    for p in range(Num_p):\n",
    "        for q in range(Num_q):\n",
    "            if q==0 or p==0:\n",
    "                continue\n",
    "            x[r][p][q] = cal_x(r, p, q)\n",
    "            y[r][p][q] = cal_y(r, p, q)\n",
    "            e[r][p][q] = y[r][p][q] - cal_y_star(p, q)\n",
    "            if r != Num_r - 1:\n",
    "                u[r+1][p][q] = cal_u(r+1, p, q)"
   ]
  },
  {
   "cell_type": "code",
   "execution_count": null,
   "id": "7fe64193-149a-4dc9-b05a-dcb567c6e48e",
   "metadata": {},
   "outputs": [],
   "source": [
    "e_squeezed = np.squeeze(e, axis=-1)  # shape: (Num_r, Num_p, Num_q, 2)\n",
    "\n",
    "sums = np.sum(abs(e_squeezed), axis=-1)\n",
    "\n",
    "max_sum = np.max(sums)\n",
    "\n",
    "print(\"Max value：\", max_sum)"
   ]
  },
  {
   "cell_type": "markdown",
   "id": "bcf88ecc-c3e3-4213-99d9-964ff23ec7d2",
   "metadata": {},
   "source": [
    "## 2.Disturbance"
   ]
  },
  {
   "cell_type": "code",
   "execution_count": null,
   "id": "f973e78f-ceb7-4681-977e-bc9c4b8c664e",
   "metadata": {},
   "outputs": [],
   "source": [
    "A1 = np.array([[0.3, 0.5], [0.5, 0.3]])\n",
    "A2 = np.array([[0.2, 0], [0, 0.2]])\n",
    "B1 = np.array([[0.01, 0], [0.01, 0.01]])\n",
    "B2 = np.array([[0., 0.], [0., 0.]])\n",
    "D = np.array([[1, 0], [0, 1]])\n",
    "E = np.array([[-1, 0], [0, -1]])\n",
    "C1 = np.array([[0.01, 0], [0.01, 0.01]])\n",
    "C2 = np.array([[0., 0.], [0., 0.]])\n",
    "F = np.array([[-0.5, 0], [0, -0.5]])\n",
    "\n",
    "Gamma = np.array([[0.5, 0], [0, 0.5]])"
   ]
  },
  {
   "cell_type": "code",
   "execution_count": null,
   "id": "25f990e9-4752-484e-adc7-ce7a74de76fd",
   "metadata": {},
   "outputs": [],
   "source": [
    "Num_p, Num_q, Num_r = 15, 20, 1000\n",
    "\n",
    "x = np.zeros((Num_r, Num_p, Num_q, 2, 1))\n",
    "y = np.zeros((Num_r, Num_p, Num_q, 2, 1))\n",
    "u = np.zeros((Num_r, Num_p, Num_q, 2, 1))\n",
    "e = np.zeros((Num_r, Num_p, Num_q, 2, 1))\n",
    "# e_hat = np.zeros((Num_r, Num_p, Num_q, 2, 1))\n",
    "\n",
    "# Initialize x\n",
    "for r in range(Num_r):\n",
    "    for p in range(Num_p):\n",
    "        x[r][p][0] = np.array([[-math.sin(2 * math.pi * p / 10)], [-math.cos(2 * math.pi * p / 10)]])\\\n",
    "        + np.array([[pow(0.2, r)], [pow(0.2, r)]])\n",
    "    for q in range(Num_q):\n",
    "        x[r][0][q] = np.array([[-math.sin(2 * math.pi * q / 10)], [-math.cos(2 * math.pi * q / 10)]])\\\n",
    "        + np.array([[pow(0.2, r)], [pow(0.2, r)]])"
   ]
  },
  {
   "cell_type": "code",
   "execution_count": null,
   "id": "c38f9f71-5ddc-408e-8cd7-1287f1f6125b",
   "metadata": {},
   "outputs": [],
   "source": [
    "def cal_x(r, p, q):\n",
    "    if p-1 < 0:\n",
    "        result1 = A1 @ x[r][0][q] + B1 @ u[r][0][q] + C1 @ cal_w(r, 0, q)\n",
    "    else:\n",
    "        result1 = A1 @ x[r][p-1][q] + B1 @ u[r][p-1][q] + C1 @ cal_w(r, p-1, q)\n",
    "    if q-1 < 0:\n",
    "        result2 = A2 @ x[r][p][0] + B2 @ u[r][p][0] + C2 @ cal_w(r, p, 0)\n",
    "    else:\n",
    "        result2 = A2 @ x[r][p][q-1] + B2 @ u[r][p][q-1] + C2 @ cal_w(r, p, q-1)\n",
    "\n",
    "    return result1 + result2"
   ]
  },
  {
   "cell_type": "code",
   "execution_count": null,
   "id": "99550723-c336-4921-a457-c617c3c8f464",
   "metadata": {},
   "outputs": [],
   "source": [
    "def cal_y(r, p, q):\n",
    "    result = D @ x[r][p][q] + E @ u[r][p][q] + F @ cal_v(r, p, q)\n",
    "    return result"
   ]
  },
  {
   "cell_type": "code",
   "execution_count": null,
   "id": "e4a499ee-7be4-4a87-9078-84211a7c721c",
   "metadata": {},
   "outputs": [],
   "source": [
    "def cal_y_star(p, q):\n",
    "    return np.array([[math.sin(2 * math.pi * (p + q)) / 10], [0.5 * math.cos(2 * math.pi * (p-q)) / 10]])"
   ]
  },
  {
   "cell_type": "code",
   "execution_count": null,
   "id": "a5a8f62d-685e-4103-9f29-2e054776da1f",
   "metadata": {},
   "outputs": [],
   "source": [
    "def cal_u(r, p, q):\n",
    "    return u[r-1][p][q] + Gamma @ e[r-1][p][q]"
   ]
  },
  {
   "cell_type": "code",
   "execution_count": null,
   "id": "e34a02e7-3bcd-4bc6-893b-00325fd7e4de",
   "metadata": {},
   "outputs": [],
   "source": [
    "def cal_w(r, p, q):\n",
    "    return np.array([[0.1 * math.sin(0.01 * math.pi * (p - q)) + 1e-5*np.power(0.1, r)], [0.09 * math.cos(0.01 * math.pi * (p + q)) + 1e-5*np.power(0.1, r)]])"
   ]
  },
  {
   "cell_type": "code",
   "execution_count": null,
   "id": "5ce2a643-e47e-4695-8af2-512bb08f642d",
   "metadata": {},
   "outputs": [],
   "source": [
    "def cal_v(r, p, q):\n",
    "    return np.array([[0.08 * math.sin(0.01 * math.pi * (p - q)) + 1e-5*np.power(0.1, r)], [0.09 * math.cos(0.01 * math.pi * (p + q)) + 1e-5*np.power(0.1, r)]])"
   ]
  },
  {
   "cell_type": "code",
   "execution_count": null,
   "id": "539c3e64-1c36-4138-b28b-48d666f2570c",
   "metadata": {},
   "outputs": [],
   "source": [
    "for r in range(Num_r):\n",
    "    for p in range(Num_p):\n",
    "        for q in range(Num_q):\n",
    "            if q==0 or p==0:\n",
    "                continue\n",
    "            x[r][p][q] = cal_x(r, p, q)\n",
    "            y[r][p][q] = cal_y(r, p, q)\n",
    "            e[r][p][q] = y[r][p][q] - cal_y_star(p, q)\n",
    "            if r != Num_r - 1:\n",
    "                u[r+1][p][q] = cal_u(r+1, p, q)"
   ]
  },
  {
   "cell_type": "code",
   "execution_count": null,
   "id": "911d068c-97e7-4ee9-8fca-8be7fde4ec2a",
   "metadata": {},
   "outputs": [],
   "source": [
    "e_squeezed = np.squeeze(e, axis=-1)  # shape: (Num_r, Num_p, Num_q, 2)\n",
    "\n",
    "sums = np.sum(abs(e_squeezed), axis=-1)\n",
    "max_sum = np.max(sums)\n",
    "\n",
    "print(\"Max values：\", max_sum)"
   ]
  }
 ],
 "metadata": {
  "kernelspec": {
   "display_name": "Python 3 (ipykernel)",
   "language": "python",
   "name": "python3"
  },
  "language_info": {
   "codemirror_mode": {
    "name": "ipython",
    "version": 3
   },
   "file_extension": ".py",
   "mimetype": "text/x-python",
   "name": "python",
   "nbconvert_exporter": "python",
   "pygments_lexer": "ipython3",
   "version": "3.12.7"
  }
 },
 "nbformat": 4,
 "nbformat_minor": 5
}
